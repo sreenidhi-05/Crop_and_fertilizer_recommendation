{
 "cells": [
  {
   "cell_type": "code",
   "execution_count": 1,
   "id": "7c07392c-06c8-478c-ab38-e6adcf6067cf",
   "metadata": {},
   "outputs": [],
   "source": [
    "import pandas as pd\n",
    "import numpy as np"
   ]
  },
  {
   "cell_type": "code",
   "execution_count": 2,
   "id": "54462dbc-f004-439a-ac8c-8090b0976065",
   "metadata": {},
   "outputs": [
    {
     "name": "stdout",
     "output_type": "stream",
     "text": [
      "Crop Recommendation Dataset - First 5 Records:\n",
      "    N   P   K  temperature   humidity        ph    rainfall label\n",
      "0  90  42  43    20.879744  82.002744  6.502985  202.935536  rice\n",
      "1  85  58  41    21.770462  80.319644  7.038096  226.655537  rice\n",
      "2  60  55  44    23.004459  82.320763  7.840207  263.964248  rice\n",
      "3  74  35  40    26.491096  80.158363  6.980401  242.864034  rice\n",
      "4  78  42  42    20.130175  81.604873  7.628473  262.717340  rice\n"
     ]
    }
   ],
   "source": [
    "crop_df = pd.read_csv(r\"C:\\Users\\hp\\OneDrive\\Desktop\\Crop_and_fertilizer_recommendation\\dataset\\crop recommendation.csv\")\n",
    "print(\"Crop Recommendation Dataset - First 5 Records:\")\n",
    "print(crop_df.head())"
   ]
  },
  {
   "cell_type": "code",
   "execution_count": 3,
   "id": "a5512b4b-59c7-4d05-bc65-601a212f5940",
   "metadata": {},
   "outputs": [
    {
     "name": "stdout",
     "output_type": "stream",
     "text": [
      "\n",
      "Crop Recommendation Dataset - Info:\n",
      "<class 'pandas.core.frame.DataFrame'>\n",
      "RangeIndex: 2200 entries, 0 to 2199\n",
      "Data columns (total 8 columns):\n",
      " #   Column       Non-Null Count  Dtype  \n",
      "---  ------       --------------  -----  \n",
      " 0   N            2200 non-null   int64  \n",
      " 1   P            2200 non-null   int64  \n",
      " 2   K            2200 non-null   int64  \n",
      " 3   temperature  2200 non-null   float64\n",
      " 4   humidity     2200 non-null   float64\n",
      " 5   ph           2200 non-null   float64\n",
      " 6   rainfall     2200 non-null   float64\n",
      " 7   label        2200 non-null   object \n",
      "dtypes: float64(4), int64(3), object(1)\n",
      "memory usage: 137.6+ KB\n",
      "None\n"
     ]
    }
   ],
   "source": [
    "print(\"\\nCrop Recommendation Dataset - Info:\")\n",
    "print(crop_df.info())"
   ]
  },
  {
   "cell_type": "code",
   "execution_count": 4,
   "id": "f201cfa4-54d8-4bcb-957e-5a24859b86a1",
   "metadata": {},
   "outputs": [
    {
     "name": "stdout",
     "output_type": "stream",
     "text": [
      "\n",
      "Fertilizer Recommendation Dataset - First 5 Records:\n",
      "   Temparature  Humidity   Moisture Soil Type  Crop Type  Nitrogen  Potassium  \\\n",
      "0           26         52        38     Sandy      Maize        37          0   \n",
      "1           29         52        45     Loamy  Sugarcane        12          0   \n",
      "2           34         65        62     Black     Cotton         7          9   \n",
      "3           32         62        34       Red    Tobacco        22          0   \n",
      "4           28         54        46    Clayey      Paddy        35          0   \n",
      "\n",
      "   Phosphorous Fertilizer Name  \n",
      "0            0            Urea  \n",
      "1           36             DAP  \n",
      "2           30        14-35-14  \n",
      "3           20           28-28  \n",
      "4            0            Urea  \n"
     ]
    }
   ],
   "source": [
    "fertilizer_df = pd.read_csv(r\"C:\\Users\\hp\\OneDrive\\Desktop\\Crop_and_fertilizer_recommendation\\dataset\\fertilizer recommendation.csv\")\n",
    "print(\"\\nFertilizer Recommendation Dataset - First 5 Records:\")\n",
    "print(fertilizer_df.head())"
   ]
  },
  {
   "cell_type": "code",
   "execution_count": 5,
   "id": "9715aaed-b525-4689-986e-5cbe5ac9d3fa",
   "metadata": {},
   "outputs": [
    {
     "name": "stdout",
     "output_type": "stream",
     "text": [
      "\n",
      "Fertilizer Recommendation Dataset - Info:\n",
      "<class 'pandas.core.frame.DataFrame'>\n",
      "RangeIndex: 99 entries, 0 to 98\n",
      "Data columns (total 9 columns):\n",
      " #   Column           Non-Null Count  Dtype \n",
      "---  ------           --------------  ----- \n",
      " 0   Temparature      99 non-null     int64 \n",
      " 1   Humidity         99 non-null     int64 \n",
      " 2   Moisture         99 non-null     int64 \n",
      " 3   Soil Type        99 non-null     object\n",
      " 4   Crop Type        99 non-null     object\n",
      " 5   Nitrogen         99 non-null     int64 \n",
      " 6   Potassium        99 non-null     int64 \n",
      " 7   Phosphorous      99 non-null     int64 \n",
      " 8   Fertilizer Name  99 non-null     object\n",
      "dtypes: int64(6), object(3)\n",
      "memory usage: 7.1+ KB\n",
      "None\n"
     ]
    }
   ],
   "source": [
    "print(\"\\nFertilizer Recommendation Dataset - Info:\")\n",
    "print(fertilizer_df.info())"
   ]
  },
  {
   "cell_type": "code",
   "execution_count": null,
   "id": "07b7c986-e443-470e-8e7e-214693373332",
   "metadata": {},
   "outputs": [],
   "source": []
  }
 ],
 "metadata": {
  "kernelspec": {
   "display_name": "Python 3 (ipykernel)",
   "language": "python",
   "name": "python3"
  },
  "language_info": {
   "codemirror_mode": {
    "name": "ipython",
    "version": 3
   },
   "file_extension": ".py",
   "mimetype": "text/x-python",
   "name": "python",
   "nbconvert_exporter": "python",
   "pygments_lexer": "ipython3",
   "version": "3.11.5"
  }
 },
 "nbformat": 4,
 "nbformat_minor": 5
}
